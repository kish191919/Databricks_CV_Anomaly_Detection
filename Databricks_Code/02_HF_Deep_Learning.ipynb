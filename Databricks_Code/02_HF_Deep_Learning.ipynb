{
 "cells": [
  {
   "cell_type": "code",
   "execution_count": 0,
   "metadata": {
    "application/vnd.databricks.v1+cell": {
     "cellMetadata": {},
     "inputWidgets": {},
     "nuid": "1118201e-6bc9-491f-a181-5afdb04c575e",
     "showTitle": false,
     "tableResultSettingsMap": {},
     "title": ""
    }
   },
   "outputs": [],
   "source": [
    "mount_path = '/mnt/vision-test'\n",
    "normal_data = f'{mount_path}/normal'\n",
    "abnormal_data = f'{mount_path}/abnormal'\n",
    "\n",
    "df_augmented = (\n",
    "    spark.read.parquet(normal_data)\n",
    "    .union(spark.read.parquet(abnormal_data)\n",
    "           )\n",
    ")\n",
    "\n",
    "# display(df_augmented)\n",
    "\n",
    "dataset_name = \"training_dataset_augemented\"\n",
    "df_augmented.write.mode(\"overwrite\").format(\"parquet\").save(f\"{mount_path}/{dataset_name}\")\n",
    "df_augmented.write.mode(\"overwrite\").format(\"delta\").saveAsTable(dataset_name)"
   ]
  }
 ],
 "metadata": {
  "application/vnd.databricks.v1+notebook": {
   "computePreferences": null,
   "dashboards": [],
   "environmentMetadata": {
    "base_environment": "",
    "environment_version": "3"
   },
   "inputWidgetPreferences": null,
   "language": "python",
   "notebookMetadata": {
    "pythonIndentUnit": 4
   },
   "notebookName": "02_HF_Deep_Learning",
   "widgets": {}
  },
  "language_info": {
   "name": "python"
  }
 },
 "nbformat": 4,
 "nbformat_minor": 0
}
