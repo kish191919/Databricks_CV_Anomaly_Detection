{
 "cells": [
  {
   "cell_type": "markdown",
   "metadata": {
    "application/vnd.databricks.v1+cell": {
     "cellMetadata": {},
     "inputWidgets": {},
     "nuid": "08f8e70c-0c19-45d0-8908-ca40334ad2d1",
     "showTitle": false,
     "tableResultSettingsMap": {},
     "title": ""
    }
   },
   "source": [
    "# Create a Model Serving Endpoint"
   ]
  },
  {
   "cell_type": "code",
   "execution_count": 0,
   "metadata": {
    "application/vnd.databricks.v1+cell": {
     "cellMetadata": {
      "byteLimit": 2048000,
      "rowLimit": 10000
     },
     "inputWidgets": {},
     "nuid": "ad38d55d-c18d-43bd-ac1c-65f431aa0430",
     "showTitle": true,
     "tableResultSettingsMap": {},
     "title": "Preprocess"
    }
   },
   "outputs": [
    {
     "output_type": "stream",
     "name": "stdout",
     "output_type": "stream",
     "text": [
      "input data: (1, 3, 224, 224)\n"
     ]
    }
   ],
   "source": [
    "import os\n",
    "import requests\n",
    "import pandas as pd\n",
    "import numpy as np\n",
    "import json\n",
    "from PIL import Image\n",
    "from dotenv import load_dotenv\n",
    "\n",
    "load_dotenv()  \n",
    "DATABRICKS_TOKEN = os.getenv(\"DATABRICKS_TOKEN\")\n",
    "\n",
    "# Databricks API & Model Endpoint\n",
    "databricks_instance = 'adb-1987745085569100.0.azuredatabricks.net'\n",
    "model_name = 'VITdogClassfication'\n",
    "url = f'https://{databricks_instance}/serving-endpoints/{model_name}/invocations'\n",
    "\n",
    "headers = {\n",
    "    \"Authorization\": f\"Bearer {DATABRICKS_TOKEN}\"\n",
    "    # Content-Type는 requests의 json= 인자가 자동으로 넣어줍니다.\n",
    "}\n",
    "\n",
    "def preprocess_image(image_path):\n",
    "    image = Image.open(image_path).convert('RGB')\n",
    "    \n",
    "    # (224,224,3)\n",
    "    image = image.resize((224, 224))\n",
    "    image_array = np.array(image, dtype=np.float32) / 255.0  \n",
    "    \n",
    "    #(224,224,3) > (3,224,224) \n",
    "    image_array = image_array.transpose(2,0,1)\n",
    "\n",
    "    # (3,224,224)  > (1, 3,224,224) \n",
    "    image_array = np.expand_dims(image_array, axis=0)\n",
    "\n",
    "    return image_array.astype(np.float32)\n",
    "\n",
    "\n",
    "def create_payload_from_ndarray(arr: np.ndarray) -> dict:\n",
    "    # Databricks/MLflow pyfunc & 모델 서빙이 이해하는 표준 포맷\n",
    "    return {\"inputs\": arr.tolist()}    \n",
    "\n",
    "    \n",
    "def score_model_ndarray(arr: np.ndarray):\n",
    "    payload = create_payload_from_ndarray(arr)\n",
    "    resp = requests.post(url, headers=headers, json=payload)  # use json=, not data=\n",
    "    if resp.status_code != 200:\n",
    "        raise Exception(f\"Request failed: {resp.status_code}, {resp.text}\")\n",
    "    return resp.json()\n",
    "\n",
    "# Load an image and make predictions\n",
    "mount_path = \"/mnt/vision-test/\"\n",
    "image_path = f\"{mount_path}images\"\n",
    "files = [file.path.replace(\"dbfs:/\",\"/dbfs/\") for file in dbutils.fs.ls(image_path)]\n",
    "image_path_sample = files.pop()\n",
    "\n",
    "\n",
    "input_data = preprocess_image(image_path_sample)\n",
    "print(f\"input data: {input_data.shape}\")\n",
    "\n"
   ]
  },
  {
   "cell_type": "code",
   "execution_count": 0,
   "metadata": {
    "application/vnd.databricks.v1+cell": {
     "cellMetadata": {
      "byteLimit": 2048000,
      "rowLimit": 10000
     },
     "inputWidgets": {},
     "nuid": "03fd75fd-9bd9-4475-875c-5d9de29820b3",
     "showTitle": true,
     "tableResultSettingsMap": {},
     "title": "Make Prediction"
    }
   },
   "outputs": [
    {
     "output_type": "execute_result",
     "data": {
      "text/plain": [
       "{'predictions': [[-2.7430965900421143, 0.44489455223083496]]}"
      ]
     },
     "execution_count": 18,
     "metadata": {},
     "output_type": "execute_result"
    }
   ],
   "source": [
    "response = score_model_ndarray(input_data)\n",
    "response"
   ]
  },
  {
   "cell_type": "code",
   "execution_count": 0,
   "metadata": {
    "application/vnd.databricks.v1+cell": {
     "cellMetadata": {
      "byteLimit": 2048000,
      "rowLimit": 10000
     },
     "inputWidgets": {},
     "nuid": "ac926c4f-3a9b-45ae-ae64-179c2edcfa39",
     "showTitle": false,
     "tableResultSettingsMap": {},
     "title": ""
    }
   },
   "outputs": [
    {
     "output_type": "execute_result",
     "data": {
      "text/plain": [
       "list"
      ]
     },
     "execution_count": 16,
     "metadata": {},
     "output_type": "execute_result"
    }
   ],
   "source": [
    "type(response['predictions'])"
   ]
  },
  {
   "cell_type": "code",
   "execution_count": 0,
   "metadata": {
    "application/vnd.databricks.v1+cell": {
     "cellMetadata": {
      "byteLimit": 2048000,
      "rowLimit": 10000
     },
     "inputWidgets": {},
     "nuid": "8ce211be-8b7a-4589-a82e-715369f40379",
     "showTitle": false,
     "tableResultSettingsMap": {},
     "title": ""
    }
   },
   "outputs": [
    {
     "output_type": "stream",
     "name": "stdout",
     "output_type": "stream",
     "text": [
      "Class logits:  [-2.7430965900421143, 0.44489455223083496]\nClass probabilities:  [0.03962015 0.96037985]\n"
     ]
    }
   ],
   "source": [
    "# Class 0 -> abnormal\n",
    "# Class 1 -> normal\n",
    "\n",
    "# Softmax\n",
    "def softmax(logits):\n",
    "    exp_logits = np.exp(logits - np.max(logits))\n",
    "    return exp_logits / np.sum(exp_logits)\n",
    "\n",
    "\n",
    "def post_process(response):\n",
    "    logits = response['predictions'][0]\n",
    "    return softmax(np.array(logits))\n",
    "\n",
    "probabilities = post_process(response)\n",
    "print('Class logits: ', response['predictions'][0])\n",
    "print('Class probabilities: ', probabilities)"
   ]
  },
  {
   "cell_type": "code",
   "execution_count": 0,
   "metadata": {
    "application/vnd.databricks.v1+cell": {
     "cellMetadata": {},
     "inputWidgets": {},
     "nuid": "e1d209d9-e69c-4a94-8255-42ddcd6cd985",
     "showTitle": false,
     "tableResultSettingsMap": {},
     "title": ""
    }
   },
   "outputs": [],
   "source": []
  }
 ],
 "metadata": {
  "application/vnd.databricks.v1+notebook": {
   "computePreferences": null,
   "dashboards": [],
   "environmentMetadata": {
    "base_environment": "",
    "environment_version": "3"
   },
   "inputWidgetPreferences": null,
   "language": "python",
   "notebookMetadata": {
    "pythonIndentUnit": 4
   },
   "notebookName": "04_Model_Serving",
   "widgets": {}
  },
  "language_info": {
   "name": "python"
  }
 },
 "nbformat": 4,
 "nbformat_minor": 0
}