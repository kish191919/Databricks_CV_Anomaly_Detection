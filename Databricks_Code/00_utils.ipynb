{
 "cells": [
  {
   "cell_type": "code",
   "execution_count": 0,
   "metadata": {
    "application/vnd.databricks.v1+cell": {
     "cellMetadata": {
      "byteLimit": 2048000,
      "rowLimit": 10000
     },
     "inputWidgets": {},
     "nuid": "1fe254dc-5365-4341-acfd-1af47c41229b",
     "showTitle": false,
     "tableResultSettingsMap": {},
     "title": ""
    }
   },
   "outputs": [],
   "source": [
    "import os\n",
    "import io\n",
    "import pandas as pd\n",
    "import matplotlib.pyplot as plt\n",
    "from PIL import Image\n",
    "\n",
    "# Spark에서는 분산되어있기 때문에 collect를 사용\n",
    "\n",
    "def display_image(df, num_images:int=5):\n",
    "    images = df.take(num_images)\n",
    "    plt.figure(figsize=(10,10))\n",
    "    for i, row in enumerate(images):\n",
    "        img_path = row.path.replace('dbfs:/','/dbfs/')\n",
    "        img = Image.open(img_path)\n",
    "        plt.subplot(1,num_images,i+1)\n",
    "        plt.imshow(img)\n",
    "        plt.title(row.name)\n",
    "        plt.axis(\"off\")\n",
    "    plt.show()\n",
    "\n",
    "\n",
    "\n",
    "def display_image_content(df, num_images:int=5):\n",
    "    images = df.take(num_images)\n",
    "    plt.figure(figsize=(10,10))\n",
    "    for i, row in enumerate(images):\n",
    "        img = Image.open(io.BytesIO(row.image))\n",
    "        plt.subplot(1,num_images,i+1)\n",
    "        plt.imshow(img)\n",
    "        plt.title(row.name)\n",
    "        plt.axis(\"off\")\n",
    "    plt.show()\n",
    "\n",
    "\n"
   ]
  }
 ],
 "metadata": {
  "application/vnd.databricks.v1+notebook": {
   "computePreferences": null,
   "dashboards": [],
   "environmentMetadata": {
    "base_environment": "",
    "environment_version": "3"
   },
   "inputWidgetPreferences": null,
   "language": "python",
   "notebookMetadata": {
    "pythonIndentUnit": 4
   },
   "notebookName": "00_utils",
   "widgets": {}
  },
  "language_info": {
   "name": "python"
  }
 },
 "nbformat": 4,
 "nbformat_minor": 0
}
